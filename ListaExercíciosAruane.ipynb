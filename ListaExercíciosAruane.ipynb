{
  "nbformat": 4,
  "nbformat_minor": 0,
  "metadata": {
    "colab": {
      "provenance": [],
      "toc_visible": true,
      "authorship_tag": "ABX9TyP5n8XA+OXbW0n3Vqw4WW8D",
      "include_colab_link": true
    },
    "kernelspec": {
      "name": "python3",
      "display_name": "Python 3"
    },
    "language_info": {
      "name": "python"
    }
  },
  "cells": [
    {
      "cell_type": "markdown",
      "metadata": {
        "id": "view-in-github",
        "colab_type": "text"
      },
      "source": [
        "<a href=\"https://colab.research.google.com/github/lucasmvaladao/lista_exercicio_python_aruane/blob/main/ListaExerc%C3%ADciosAruane.ipynb\" target=\"_parent\"><img src=\"https://colab.research.google.com/assets/colab-badge.svg\" alt=\"Open In Colab\"/></a>"
      ]
    },
    {
      "cell_type": "markdown",
      "source": [
        "Exercício 1"
      ],
      "metadata": {
        "id": "w95-iXN5Nfe0"
      }
    },
    {
      "cell_type": "markdown",
      "source": [
        "Peça ao usuário para inserir seu nome e exiba uma mensagem de boas-vindas."
      ],
      "metadata": {
        "id": "mkDNydZwS4ft"
      }
    },
    {
      "cell_type": "code",
      "execution_count": null,
      "metadata": {
        "colab": {
          "base_uri": "https://localhost:8080/"
        },
        "id": "KzUQ9IjCItDf",
        "outputId": "74d49e03-fc99-460e-8fe6-7139237ea8d3"
      },
      "outputs": [
        {
          "output_type": "stream",
          "name": "stdout",
          "text": [
            "Olá, usuário! Insira seu nome: Lucas\n",
            "Lucasseja bem-vindo(a)\n"
          ]
        }
      ],
      "source": [
        "nome = str(input('Olá, usuário! Insira seu nome: '))\n",
        "\n",
        "print(f'{nome} seja bem-vindo(a)')"
      ]
    },
    {
      "cell_type": "markdown",
      "source": [
        "Exercício 2"
      ],
      "metadata": {
        "id": "AgwKnjZhNm0z"
      }
    },
    {
      "cell_type": "markdown",
      "source": [
        "Peça ao usuário para inserir duas palavras e exiba uma única string que\n",
        "contenha as palavras concatenadas e separadas por um espaço."
      ],
      "metadata": {
        "id": "gXcc48nhS6JO"
      }
    },
    {
      "cell_type": "code",
      "source": [
        "print('Usuário insira duas palavras aleátorias!')\n",
        "\n",
        "palavra1 = str(input('Digite a primeira palavra: '))\n",
        "palavra2 = str(input('Digite a segunda palavra: '))\n",
        "\n",
        "print(palavra1 + ' ' + palavra2)"
      ],
      "metadata": {
        "colab": {
          "base_uri": "https://localhost:8080/"
        },
        "id": "EuYdRwNlKKA5",
        "outputId": "888dbd7e-8f34-4b2f-9a8c-eeacbb4d9f70"
      },
      "execution_count": null,
      "outputs": [
        {
          "output_type": "stream",
          "name": "stdout",
          "text": [
            "Usuário insira duas palavras aleátorias!\n",
            "Digite a primeira palavra: oi\n",
            "Digite a segunda palavra: beleza\n",
            "oi beleza\n"
          ]
        }
      ]
    },
    {
      "cell_type": "markdown",
      "source": [
        "Exercício 3"
      ],
      "metadata": {
        "id": "81TpbByLNpby"
      }
    },
    {
      "cell_type": "markdown",
      "source": [
        "Solicite ao usuário que insira uma frase e exiba quantas palavras ela contém."
      ],
      "metadata": {
        "id": "Kxrvesd1S-Yg"
      }
    },
    {
      "cell_type": "code",
      "source": [
        "frase = str(input('Usuário insira uma frase: '))\n",
        "\n",
        "tamanho = len(frase.split())\n",
        "\n",
        "print(f'A frase possui {tamanho} palavras')\n"
      ],
      "metadata": {
        "colab": {
          "base_uri": "https://localhost:8080/"
        },
        "id": "Mi9VuSsULXL5",
        "outputId": "9963a427-17ba-4b44-e4e9-2a857d934f9b"
      },
      "execution_count": null,
      "outputs": [
        {
          "output_type": "stream",
          "name": "stdout",
          "text": [
            "Usuário insira uma frase: oi tufo bem\n",
            "A frase possui 3 palavras\n"
          ]
        }
      ]
    },
    {
      "cell_type": "markdown",
      "source": [
        "Exercício 4"
      ],
      "metadata": {
        "id": "ffZ2t84tNrcb"
      }
    },
    {
      "cell_type": "markdown",
      "source": [
        "Peça ao usuário para inserir dois números e exiba a soma deles."
      ],
      "metadata": {
        "id": "BewCpoKrTFM2"
      }
    },
    {
      "cell_type": "code",
      "source": [
        "print('Insera dois números e exibiremos a soma deles!')\n",
        "\n",
        "numero1 = int(input('Digite o primeiro número: '))\n",
        "numero2 = int(input('Digite o segundo número: '))\n",
        "\n",
        "print(f'A soma do número {numero1} mais {numero2} é igual á: {numero2 + numero1}')"
      ],
      "metadata": {
        "colab": {
          "base_uri": "https://localhost:8080/"
        },
        "id": "7IAABzrMOhbI",
        "outputId": "7fdd3550-9cea-420a-ae5f-36ace52a8e5c"
      },
      "execution_count": null,
      "outputs": [
        {
          "output_type": "stream",
          "name": "stdout",
          "text": [
            "Insera dois números e exibiremos a soma deles!\n",
            "Digite o primeiro número: 10\n",
            "Digite o segundo número: 20\n",
            "A soma do numero 10 mais 20 é igual á: 30\n"
          ]
        }
      ]
    },
    {
      "cell_type": "markdown",
      "source": [
        "Exercício 5"
      ],
      "metadata": {
        "id": "h9wvHWHRNz4y"
      }
    },
    {
      "cell_type": "markdown",
      "source": [
        "Crie um programa que receba três números do usuário e exiba a média\n",
        "aritmética deles."
      ],
      "metadata": {
        "id": "j7eHpl6uTG-2"
      }
    },
    {
      "cell_type": "code",
      "source": [
        "print('Insira três números e veremos a média aritmética deles.')\n",
        "\n",
        "n1 = int(input('Insira o primeiro número: '))\n",
        "n2 = int(input('Insira o segundo número: '))\n",
        "n3 = int(input('Insira o terceiro número: '))\n",
        "\n",
        "media = (n1 + n2 + n3) / 3\n",
        "\n",
        "print(f'A média dos seus números é igual á: {media}')"
      ],
      "metadata": {
        "colab": {
          "base_uri": "https://localhost:8080/"
        },
        "id": "Q0rxNwPAP7mQ",
        "outputId": "8c8c2b4a-f3d9-4ca7-864a-23680a2ba6a8"
      },
      "execution_count": null,
      "outputs": [
        {
          "output_type": "stream",
          "name": "stdout",
          "text": [
            "Insira três números e veremos a média aritmética deles.\n",
            "Insira o primeiro número: 10\n",
            "Insira o segundo número: 10\n",
            "Insira o terceiro número: 10\n",
            "A média dos seus números é igual á: 10.0\n"
          ]
        }
      ]
    },
    {
      "cell_type": "markdown",
      "source": [
        "Exercício 6"
      ],
      "metadata": {
        "id": "DB4zn09AN31S"
      }
    },
    {
      "cell_type": "markdown",
      "source": [
        "Peça ao usuário para inserir três números e exiba o maior e o menor número\n",
        "informados."
      ],
      "metadata": {
        "id": "KqddlFpkTLk-"
      }
    },
    {
      "cell_type": "code",
      "source": [
        "numero =[]\n",
        "n = 0\n",
        "\n",
        "print('Insira três números e veremos qual é o menor e maior dentre eles. ')\n",
        "while n < 3:\n",
        "  a = int(input('Insira um número: '))\n",
        "  numero.append(a)\n",
        "  n = n + 1\n",
        "\n",
        "menor_valor = min(numero)\n",
        "maior_valor = max(numero)\n",
        "\n",
        "print(f'O menor número é: {menor_valor}')\n",
        "print(f'O maior número é: {maior_valor}')"
      ],
      "metadata": {
        "colab": {
          "base_uri": "https://localhost:8080/"
        },
        "id": "1BxAnZ6YRdZI",
        "outputId": "1c26965f-d69a-4f6d-d2a3-71194333c753"
      },
      "execution_count": null,
      "outputs": [
        {
          "output_type": "stream",
          "name": "stdout",
          "text": [
            "Insira três números e veremos qual é o menor e maior dentre eles. \n",
            "Insira um número: 1\n",
            "Insira um número: 2\n",
            "Insira um número: 3\n",
            "O menor número é: 1\n",
            "O maior número é: 3\n"
          ]
        }
      ]
    },
    {
      "cell_type": "markdown",
      "source": [
        "Exercício 6"
      ],
      "metadata": {
        "id": "naJ99j0YN7Pi"
      }
    },
    {
      "cell_type": "markdown",
      "source": [
        "Peça ao usuário para inserir três números e exiba o maior e o menor número\n",
        "informados."
      ],
      "metadata": {
        "id": "h4rCVa_zTOK2"
      }
    },
    {
      "cell_type": "code",
      "source": [
        "numero = []\n",
        "\n",
        "print('Insira três números e veremos qual é o menor e maior dentre eles. ')\n",
        "for i in range(3):\n",
        "  a = int(input('Insira um número: '))\n",
        "  numero.append(a)\n",
        "\n",
        "menor_valor = min(numero)\n",
        "maior_valor = max(numero)\n",
        "\n",
        "print(f'O menor número é: {menor_valor}')\n",
        "print(f'O maior número é: {maior_valor}')"
      ],
      "metadata": {
        "colab": {
          "base_uri": "https://localhost:8080/"
        },
        "id": "2G3nJrsfSk4Y",
        "outputId": "3b1e5125-41da-4bb3-9344-6104226b3574"
      },
      "execution_count": null,
      "outputs": [
        {
          "output_type": "stream",
          "name": "stdout",
          "text": [
            "Insira três números e veremos qual é o menor e maior dentre eles. \n",
            "Insira um número: 1\n",
            "Insira um número: 2\n",
            "Insira um número: 3\n",
            "O menor número é: 1\n",
            "O maior número é: 3\n"
          ]
        }
      ]
    },
    {
      "cell_type": "markdown",
      "source": [
        "Exercício 7"
      ],
      "metadata": {
        "id": "j8j63zmlN84c"
      }
    },
    {
      "cell_type": "markdown",
      "source": [
        "Peça ao usuário para inserir um número e exiba se ele é maior, menor ou igual a\n",
        "100."
      ],
      "metadata": {
        "id": "ZpqoTgDcTRcv"
      }
    },
    {
      "cell_type": "code",
      "source": [
        "numero = int(input('Digite um número: '))\n",
        "\n",
        "if numero < 100:\n",
        "  print('Seu número é menor que 100')\n",
        "elif numero == 100:\n",
        "  print('Seu número é igual á 100')\n",
        "else:\n",
        "    print('Seu número é maior que 100')"
      ],
      "metadata": {
        "colab": {
          "base_uri": "https://localhost:8080/"
        },
        "id": "mk3PhNgEW0S4",
        "outputId": "236c020f-3e6b-43a7-9c28-f6fa736cf928"
      },
      "execution_count": null,
      "outputs": [
        {
          "output_type": "stream",
          "name": "stdout",
          "text": [
            "Digite um número: 101\n",
            "Seu número é maior que 100\n"
          ]
        }
      ]
    },
    {
      "cell_type": "markdown",
      "source": [
        "Exercício 8"
      ],
      "metadata": {
        "id": "bFvJFc5OOExj"
      }
    },
    {
      "cell_type": "markdown",
      "source": [
        "Solicite ao usuário que insira dois números e exiba se eles são iguais ou, caso\n",
        "contrário, qual é o maior."
      ],
      "metadata": {
        "id": "onaHS4q8TYw1"
      }
    },
    {
      "cell_type": "code",
      "source": [
        "n1 = int(input('Insira o primeiro número: '))\n",
        "n2 = int(input('Insira o segundo número: '))\n",
        "n3 = [n1, n2]\n",
        "mn = max(n3)\n",
        "if n1 == n2:\n",
        "  print('Os números são iguais!')\n",
        "else:\n",
        "  print(f'Os números não são iguais. O maior deles é o {mn}')"
      ],
      "metadata": {
        "colab": {
          "base_uri": "https://localhost:8080/"
        },
        "id": "YFyPjhw_YM0n",
        "outputId": "1fcbaeae-1c32-4185-a828-7653d8d534cc"
      },
      "execution_count": null,
      "outputs": [
        {
          "output_type": "stream",
          "name": "stdout",
          "text": [
            "Insira o primeiro número: 2\n",
            "Insira o segundo número: 3\n",
            "Os números não são iguais. O maior deles é o 3\n"
          ]
        }
      ]
    },
    {
      "cell_type": "markdown",
      "source": [
        "Exercício 9"
      ],
      "metadata": {
        "id": "xId0DRbaON5T"
      }
    },
    {
      "cell_type": "markdown",
      "source": [
        "Peça ao usuário para inserir três números e exiba se eles podem formar um\n",
        "triângulo (a soma de dois lados deve ser maior que o terceiro)."
      ],
      "metadata": {
        "id": "Jp-B5-FATase"
      }
    },
    {
      "cell_type": "code",
      "source": [
        "print('Insera três números e exibiremos se eles podem formar um triângulo. ')\n",
        "\n",
        "n1 = int(input('Insira o primeiro número: '))\n",
        "n2 = int(input('Insira o segundo número: '))\n",
        "n3 = int(input('Insira o terceiro número: '))\n",
        "\n",
        "soma = n1 + n2\n",
        "if soma > n3 :\n",
        "  print('Sim, seria possível criar um triângulo a partir de seus números!')\n",
        "else:\n",
        "    print('Não seria possível criar um triângulo a partir de seus números.')"
      ],
      "metadata": {
        "colab": {
          "base_uri": "https://localhost:8080/"
        },
        "id": "h9XGaGy7Zhhf",
        "outputId": "3e2e79a7-084b-4c4e-9334-19614c1648b5"
      },
      "execution_count": null,
      "outputs": [
        {
          "output_type": "stream",
          "name": "stdout",
          "text": [
            "Insera três números e exibiremos se eles podem formar um triângulo. \n",
            "Insira o primeiro número: 2\n",
            "Insira o segundo número: 2\n",
            "Insira o terceiro número: 9\n",
            "Não seria possível criar um triângulo a partir de seus números\n"
          ]
        }
      ]
    },
    {
      "cell_type": "markdown",
      "source": [
        "Exercício 10"
      ],
      "metadata": {
        "id": "VRWJ__dpOQ3z"
      }
    },
    {
      "cell_type": "markdown",
      "source": [
        "Solicite ao usuário um número e exiba a tabuada dele de 1 a 10."
      ],
      "metadata": {
        "id": "uMmGeZTvTew_"
      }
    },
    {
      "cell_type": "code",
      "source": [
        "n = int(input('Insira um número e veremos a tabuada do mesmo: '))\n",
        "\n",
        "for i in range(11):\n",
        "  print(f'{n} x {i} : {n * i}')"
      ],
      "metadata": {
        "colab": {
          "base_uri": "https://localhost:8080/"
        },
        "id": "qOgIU0UdbKi3",
        "outputId": "17c0108f-cccc-477c-94df-ef3d7f992c53"
      },
      "execution_count": null,
      "outputs": [
        {
          "output_type": "stream",
          "name": "stdout",
          "text": [
            "Insira um número e veremos a tabuada do mesmo: 10\n",
            "10 x 0 : 0\n",
            "10 x 1 : 10\n",
            "10 x 2 : 20\n",
            "10 x 3 : 30\n",
            "10 x 4 : 40\n",
            "10 x 5 : 50\n",
            "10 x 6 : 60\n",
            "10 x 7 : 70\n",
            "10 x 8 : 80\n",
            "10 x 9 : 90\n",
            "10 x 10 : 100\n"
          ]
        }
      ]
    },
    {
      "cell_type": "markdown",
      "source": [
        "Exercício 11"
      ],
      "metadata": {
        "id": "oHZ3n7B4OSly"
      }
    },
    {
      "cell_type": "markdown",
      "source": [
        "Peça ao usuário um número inteiro e exiba todos os seus divisores positivos."
      ],
      "metadata": {
        "id": "VZhoXlZFTkJG"
      }
    },
    {
      "cell_type": "code",
      "source": [
        "n = int(input('Insira um número: 3'))\n",
        "dv = []\n",
        "for i in range(1, n+1):\n",
        " if n % i == 0 and i/n > 0:\n",
        "  dv.append(i)\n",
        "\n",
        "\n",
        "print(f'Os números divisores de {n} e positivos são: {dv}')"
      ],
      "metadata": {
        "colab": {
          "base_uri": "https://localhost:8080/"
        },
        "id": "co0HoJr5hvde",
        "outputId": "b5b4b822-38c3-4e7d-ca88-19a6ecbea16b"
      },
      "execution_count": null,
      "outputs": [
        {
          "output_type": "stream",
          "name": "stdout",
          "text": [
            "Insira um número10\n",
            "Os números divisores de 10 e positivos são: [1, 2, 5, 10]\n"
          ]
        }
      ]
    },
    {
      "cell_type": "markdown",
      "source": [
        "Exercício 12"
      ],
      "metadata": {
        "id": "9d34jA-rOTjT"
      }
    },
    {
      "cell_type": "markdown",
      "source": [
        "Solicite ao usuário um número e exiba se ele é primo ou não."
      ],
      "metadata": {
        "id": "3VqnijFLTnH9"
      }
    },
    {
      "cell_type": "code",
      "source": [
        "n = int(input('Insira um número e vamos descobrir se é primo: '))\n",
        "\n",
        "possi = []\n",
        "\n",
        "for i in range(1, n+1):\n",
        " if n % i == 0 and i/n > 0 and n/1 :\n",
        "  possi.append(i)\n",
        "\n",
        "if len(possi) > 2:\n",
        "  print('Seu número não é primo')\n",
        "else:\n",
        "    print('Seu número é primo')"
      ],
      "metadata": {
        "colab": {
          "base_uri": "https://localhost:8080/"
        },
        "id": "pN2fs2tDkuRt",
        "outputId": "239912a6-7e5f-4011-b4e6-de29bf8ba2d2"
      },
      "execution_count": null,
      "outputs": [
        {
          "output_type": "stream",
          "name": "stdout",
          "text": [
            "Insira um número e vamos descobrir se é primo: 6\n",
            "Seu número não é primo\n"
          ]
        }
      ]
    },
    {
      "cell_type": "markdown",
      "source": [
        "Exercício 13"
      ],
      "metadata": {
        "id": "Pwp03jjqOVXy"
      }
    },
    {
      "cell_type": "markdown",
      "source": [
        "Peça ao usuário um número e exiba uma contagem regressiva até 0."
      ],
      "metadata": {
        "id": "OzPjDPlRTxS1"
      }
    },
    {
      "cell_type": "code",
      "source": [
        "n = int(input('Insira um número: '))\n",
        "lista = []\n",
        "for i in range(0, n+1):\n",
        "      lista.append(i)\n",
        "\n",
        "lista.reverse()\n",
        "\n",
        "\n",
        "print(lista)\n"
      ],
      "metadata": {
        "colab": {
          "base_uri": "https://localhost:8080/"
        },
        "id": "c_pSsOUqpFql",
        "outputId": "3ab55bb0-b9e6-484c-ea22-87e7fd2609f8"
      },
      "execution_count": null,
      "outputs": [
        {
          "output_type": "stream",
          "name": "stdout",
          "text": [
            "Insira um número: 5\n",
            "[5, 4, 3, 2, 1, 0]\n"
          ]
        }
      ]
    },
    {
      "cell_type": "markdown",
      "source": [
        "Exercício 14"
      ],
      "metadata": {
        "id": "B4M2FRIsOWqz"
      }
    },
    {
      "cell_type": "markdown",
      "source": [
        "Solicite ao usuário que insira um número e exiba a soma de todos os números\n",
        "inteiros de 1 até ele."
      ],
      "metadata": {
        "id": "O8CuJD3ZT1iF"
      }
    },
    {
      "cell_type": "code",
      "source": [
        "n = int(input('Insira um número: '))\n",
        "\n",
        "soma = 0\n",
        "\n",
        "for i in range(1, n+1):\n",
        "  soma = soma + i\n",
        "\n",
        "print(soma)"
      ],
      "metadata": {
        "colab": {
          "base_uri": "https://localhost:8080/"
        },
        "id": "fz9v_WSWrlg0",
        "outputId": "581a7056-6dcb-412b-8168-991683fa2888"
      },
      "execution_count": null,
      "outputs": [
        {
          "output_type": "stream",
          "name": "stdout",
          "text": [
            "Insira um número: 5\n",
            "0\n"
          ]
        }
      ]
    },
    {
      "cell_type": "markdown",
      "source": [
        "Exercício 15"
      ],
      "metadata": {
        "id": "ZVcdxhe1OX2y"
      }
    },
    {
      "cell_type": "markdown",
      "source": [
        "Peça ao usuário para inserir um número e calcule o fatorial desse número."
      ],
      "metadata": {
        "id": "j98QkAo8T6ym"
      }
    },
    {
      "cell_type": "code",
      "source": [
        "n = int(input('Insira um número: '))\n",
        "\n",
        "fatorial = 1\n",
        "\n",
        "for i in range(1, n+1):\n",
        "  fatorial = fatorial * i\n",
        "\n",
        "print(fatorial)"
      ],
      "metadata": {
        "colab": {
          "base_uri": "https://localhost:8080/"
        },
        "id": "HK9wAfdys_V0",
        "outputId": "ef380782-3d21-4e9f-d4a6-beb171bac845"
      },
      "execution_count": null,
      "outputs": [
        {
          "output_type": "stream",
          "name": "stdout",
          "text": [
            "Insira um número: 5\n",
            "120\n"
          ]
        }
      ]
    },
    {
      "cell_type": "markdown",
      "source": [
        "Exercício 16"
      ],
      "metadata": {
        "id": "vSU9R5DLOZbi"
      }
    },
    {
      "cell_type": "markdown",
      "source": [
        "Crie uma lista com cinco cores e exiba a terceira cor da lista."
      ],
      "metadata": {
        "id": "2_RSmH-TT_ex"
      }
    },
    {
      "cell_type": "code",
      "source": [
        "cor = ['Azul' , 'Amarelo', 'Vermelho', 'Branco', 'Preto']\n",
        "\n",
        "cor[2]"
      ],
      "metadata": {
        "colab": {
          "base_uri": "https://localhost:8080/",
          "height": 36
        },
        "id": "sQ9wGDorvRqk",
        "outputId": "2158f762-967f-414c-f9d9-ca4b6aedbbf8"
      },
      "execution_count": null,
      "outputs": [
        {
          "output_type": "execute_result",
          "data": {
            "text/plain": [
              "'Vermelho'"
            ],
            "application/vnd.google.colaboratory.intrinsic+json": {
              "type": "string"
            }
          },
          "metadata": {},
          "execution_count": 97
        }
      ]
    },
    {
      "cell_type": "markdown",
      "source": [
        "Exercício 17"
      ],
      "metadata": {
        "id": "sHElOAAvObCa"
      }
    },
    {
      "cell_type": "markdown",
      "source": [
        "Peça ao usuário para inserir cinco números e armazene-os em uma lista. Em\n",
        "seguida, exiba a lista ordenada em ordem crescente."
      ],
      "metadata": {
        "id": "QFacynxrUb6X"
      }
    },
    {
      "cell_type": "code",
      "source": [
        "numero = []\n",
        "\n",
        "print('Insira cinco números e colocaremos em ordem crescente ')\n",
        "for i in range(5):\n",
        "  a = int(input('Insira um número: '))\n",
        "  numero.append(a)\n",
        "\n",
        "numero.sort()\n",
        "\n",
        "print(numero)"
      ],
      "metadata": {
        "colab": {
          "base_uri": "https://localhost:8080/"
        },
        "id": "KCb6tXPavmLr",
        "outputId": "7fad1d91-4466-48c2-c39f-9c2d4edca631"
      },
      "execution_count": null,
      "outputs": [
        {
          "output_type": "stream",
          "name": "stdout",
          "text": [
            "Insira cinco números e colocaremos em ordem crescente \n",
            "Insira um número: 5\n",
            "Insira um número: 6\n",
            "Insira um número: 7\n",
            "Insira um número: 20\n",
            "Insira um número: 99\n",
            "[5, 6, 7, 20, 99]\n"
          ]
        }
      ]
    },
    {
      "cell_type": "markdown",
      "source": [
        "Exercício 18"
      ],
      "metadata": {
        "id": "rp4xe8x_OelK"
      }
    },
    {
      "cell_type": "markdown",
      "source": [
        "Crie um dicionário que armazene os nomes e idades de três pessoas e permita\n",
        "que o usuário consulte a idade de uma pessoa informando seu nome."
      ],
      "metadata": {
        "id": "6jfovFFqUfWU"
      }
    },
    {
      "cell_type": "code",
      "source": [
        "dicionario = {'Lucas' : 18, 'Julia' : 32, 'Rafael': 17}\n",
        "print('Olá, usuário! Digite o nome de seus colegas e descubra a idade deles.')\n",
        "nome = str(input('De quem você quer descobrir? '))\n",
        "\n",
        "if nome in dicionario:\n",
        "    print(f'O nome é {nome} e a idade é {dicionario[nome]}')\n",
        "else:\n",
        "  print('O nome não está na lista')\n"
      ],
      "metadata": {
        "colab": {
          "base_uri": "https://localhost:8080/"
        },
        "id": "N_wy1limxu90",
        "outputId": "82659d79-6060-41e4-ba2f-9cf9a382cc21"
      },
      "execution_count": null,
      "outputs": [
        {
          "output_type": "stream",
          "name": "stdout",
          "text": [
            "Olá, usuário! Digite o nome de seus colegas e descubra a idade deles.\n",
            "De quem você quer descobrir? Julia\n",
            "O nome é Julia e a idade é 32\n"
          ]
        }
      ]
    },
    {
      "cell_type": "markdown",
      "source": [
        "Exercício 19"
      ],
      "metadata": {
        "id": "MI4pNak7OfpK"
      }
    },
    {
      "cell_type": "markdown",
      "source": [
        "Crie uma matriz 2x2 e exiba seus elementos em formato de matriz."
      ],
      "metadata": {
        "id": "xMxqF0yRUjJO"
      }
    },
    {
      "cell_type": "code",
      "source": [
        "matriz = [\n",
        "    ['A', 'B'],\n",
        "    ['C', 'D']\n",
        "]\n",
        "\n",
        "for i in matriz:\n",
        "  print( i )"
      ],
      "metadata": {
        "id": "gXz-Dowv6qQi",
        "colab": {
          "base_uri": "https://localhost:8080/"
        },
        "outputId": "d679d164-1c15-4045-90a5-3fcb59e31e83"
      },
      "execution_count": null,
      "outputs": [
        {
          "output_type": "stream",
          "name": "stdout",
          "text": [
            "['A', 'B']\n",
            "['C', 'D']\n"
          ]
        }
      ]
    },
    {
      "cell_type": "markdown",
      "source": [
        "Exercício 20"
      ],
      "metadata": {
        "id": "4ugK1UQlPmfy"
      }
    },
    {
      "cell_type": "markdown",
      "source": [
        "Solicite ao usuário que insira os elementos de uma matriz 3x3 e exiba a matriz\n",
        "formatada."
      ],
      "metadata": {
        "id": "kVN0udtVUnb9"
      }
    },
    {
      "cell_type": "code",
      "source": [
        "matriz = [['' for i in range(3)] for i in range(3) ]\n",
        "i = 's'\n",
        "while i == 's' :\n",
        "\n",
        "  linha = int(input('Digite qual linha você deseja alterar 0 - 2: '))\n",
        "  coluna = int(input('Digite qual coluna você deseja alterar de 0 - 2: '))\n",
        "  novo_valor = int(input('Digite qual será o novo valor: '))\n",
        "  matriz[linha][coluna] = novo_valor\n",
        "\n",
        "  for linha in matriz:\n",
        "    print(linha)\n",
        "\n",
        "  i = str(input('Deseja continuar alterando? (s/n) '))\n",
        "  if i == 'n':\n",
        "    break\n"
      ],
      "metadata": {
        "colab": {
          "base_uri": "https://localhost:8080/"
        },
        "id": "Za-r4XoGS32o",
        "outputId": "67b8d5cc-03dc-4670-d92b-f28748de0678"
      },
      "execution_count": null,
      "outputs": [
        {
          "name": "stdout",
          "output_type": "stream",
          "text": [
            "Digite qual linha você deseja alterar 0 - 2: 0\n",
            "Digite qual coluna você deseja alterar de 0 - 2: 0\n",
            "Digite qual será o novo valor: 10\n",
            "[10, '', '']\n",
            "['', '', '']\n",
            "['', '', '']\n",
            "Deseja continuar alterando? (s/n) n\n"
          ]
        }
      ]
    },
    {
      "cell_type": "markdown",
      "source": [
        "Exercício 20"
      ],
      "metadata": {
        "id": "EeNI0F2pU68n"
      }
    },
    {
      "cell_type": "markdown",
      "source": [
        "Solicite ao usuário que insira os elementos de uma matriz 3x3 e exiba a matriz\n",
        "formatada."
      ],
      "metadata": {
        "id": "MWYtA3zpU9rm"
      }
    },
    {
      "cell_type": "code",
      "source": [
        "print('Vamos preencher uma matriz 3x3?!')\n",
        "for l in range(3):\n",
        "  for c in range(3):\n",
        "    matriz[l][c] = int(input(f'Digite qual será o novo valor da linha {l} e coluna {c} : '))\n",
        "\n",
        "for l in matriz:\n",
        " print(l)"
      ],
      "metadata": {
        "colab": {
          "base_uri": "https://localhost:8080/"
        },
        "id": "dblf239AWdJ2",
        "outputId": "fa8973a8-4c4c-4c1a-ef26-6c1ff49799c2"
      },
      "execution_count": null,
      "outputs": [
        {
          "output_type": "stream",
          "name": "stdout",
          "text": [
            "Vamos preencher uma matriz 3x3?!\n",
            "Digite qual será o novo valor da linha 0 e coluna 0 : 2\n",
            "Digite qual será o novo valor da linha 0 e coluna 1 : 2\n",
            "Digite qual será o novo valor da linha 0 e coluna 2 : 2\n",
            "Digite qual será o novo valor da linha 1 e coluna 0 : 2\n",
            "Digite qual será o novo valor da linha 1 e coluna 1 : 2\n",
            "Digite qual será o novo valor da linha 1 e coluna 2 : 2\n",
            "Digite qual será o novo valor da linha 2 e coluna 0 : 2\n",
            "Digite qual será o novo valor da linha 2 e coluna 1 : 2\n",
            "Digite qual será o novo valor da linha 2 e coluna 2 : 2\n",
            "[2, 2, 2]\n",
            "[2, 2, 2]\n",
            "[2, 2, 2]\n"
          ]
        }
      ]
    },
    {
      "cell_type": "markdown",
      "source": [
        "Exercício 21"
      ],
      "metadata": {
        "id": "KGqdVHO_YILf"
      }
    },
    {
      "cell_type": "markdown",
      "source": [
        "Peça ao usuário que insira duas matrizes 2x2 e exiba a matriz resultante da\n",
        "soma das duas."
      ],
      "metadata": {
        "id": "u9jrlRE-VBwV"
      }
    },
    {
      "cell_type": "code",
      "source": [
        "matriz1 = [[0 for i in range(2)] for i in range(2)]\n",
        "matriz2 = [[0 for i in range(2)] for i in range(2)]\n",
        "matriz_soma = [[0 for _ in range(2)] for _ in range(2)]\n",
        "\n",
        "\n",
        "print('Vamos preencher duas matrizes 2x2 e depois soma-las?!')\n",
        "\n",
        "print('Matriz 1')\n",
        "for l in range(2):\n",
        "  for c in range(2):\n",
        "    matriz1[l][c] = int(input(f'Digite qual será o novo valor da linha {l} e coluna {c} : '))\n",
        "\n",
        "print('Matriz 2')\n",
        "for l in range(2):\n",
        "  for c in range(2):\n",
        "    matriz2[l][c] = int(input(f'Digite qual será o novo valor da linha {l} e coluna {c} : '))\n",
        "\n",
        "for l in range(2):\n",
        "  for c in range(2):\n",
        "    matriz_soma[l][c] = matriz1[l][c] + matriz2[l][c]\n",
        "\n",
        "print('Print da Matriz 1')\n",
        "for l in matriz1:\n",
        " print(l)\n",
        "\n",
        "print('Print da Matriz 2')\n",
        "for l in matriz2:\n",
        " print(l)\n",
        "\n",
        "print('Print da soma das Matrizes')\n",
        "for l in matriz_soma:\n",
        " print(l)"
      ],
      "metadata": {
        "colab": {
          "base_uri": "https://localhost:8080/"
        },
        "id": "gp6PRxBcYLJ-",
        "outputId": "cffb59c7-9a2f-4efa-b3af-d07cd17bb96c"
      },
      "execution_count": null,
      "outputs": [
        {
          "output_type": "stream",
          "name": "stdout",
          "text": [
            "Vamos preencher duas matrizes 2x2 e depois soma-las?!\n",
            "Matriz 1\n",
            "Digite qual será o novo valor da linha 0 e coluna 0 : 1\n",
            "Digite qual será o novo valor da linha 0 e coluna 1 : 2\n",
            "Digite qual será o novo valor da linha 1 e coluna 0 : 3\n",
            "Digite qual será o novo valor da linha 1 e coluna 1 : 4\n",
            "Matriz 2\n",
            "Digite qual será o novo valor da linha 0 e coluna 0 : 5\n",
            "Digite qual será o novo valor da linha 0 e coluna 1 : 6\n",
            "Digite qual será o novo valor da linha 1 e coluna 0 : 7\n",
            "Digite qual será o novo valor da linha 1 e coluna 1 : 8\n",
            "Print da Matriz 1\n",
            "[1, 2]\n",
            "[3, 4]\n",
            "Print da Matriz 2\n",
            "[5, 6]\n",
            "[7, 8]\n",
            "Print da soma das Matrizes\n",
            "[6, 8]\n",
            "[10, 12]\n"
          ]
        }
      ]
    },
    {
      "cell_type": "markdown",
      "source": [
        "Exercício 22"
      ],
      "metadata": {
        "id": "Nk-K96AWhGiG"
      }
    },
    {
      "cell_type": "markdown",
      "source": [
        "Crie uma função que receba um número e retorne o dobro dele."
      ],
      "metadata": {
        "id": "J7-sz1buVTgs"
      }
    },
    {
      "cell_type": "code",
      "source": [
        "def dobro(n):\n",
        "  return n * 2\n",
        "\n",
        "\n",
        "n = int(input(\"Digite um número e descubra o dobro dele: \"))\n",
        "resultado = dobro(n)\n",
        "\n",
        "print(f'O dobro de {n} é {resultado}.')"
      ],
      "metadata": {
        "colab": {
          "base_uri": "https://localhost:8080/"
        },
        "id": "fbmjoV6ohlV2",
        "outputId": "06302ea6-565b-4af2-f180-8b229293120d"
      },
      "execution_count": null,
      "outputs": [
        {
          "output_type": "stream",
          "name": "stdout",
          "text": [
            "Digite um número e descubra o dobro dele: 10\n",
            "O dobro de 10 é 20.\n"
          ]
        }
      ]
    },
    {
      "cell_type": "markdown",
      "source": [
        "Exercício 23"
      ],
      "metadata": {
        "id": "O_RW_TZWi741"
      }
    },
    {
      "cell_type": "markdown",
      "source": [
        "Crie uma função que receba um número e informe se ele é par ou ímpar."
      ],
      "metadata": {
        "id": "tOc0KhFwVXr3"
      }
    },
    {
      "cell_type": "code",
      "source": [
        "def parimpar(x):\n",
        "  if x % 2 == 0:\n",
        "    print(f'Seu número {x} é par')\n",
        "  else:\n",
        "    print(f'Seu numero {x} é impar')\n",
        "\n",
        "num = int(input('Digite um número e descubra se é par ou impar: '))\n",
        "resultado = parimpar(num)"
      ],
      "metadata": {
        "colab": {
          "base_uri": "https://localhost:8080/"
        },
        "id": "uj9vxeCai_fD",
        "outputId": "a36896e0-46eb-4186-8ee6-1d96338bc544"
      },
      "execution_count": null,
      "outputs": [
        {
          "output_type": "stream",
          "name": "stdout",
          "text": [
            "Digite um número e descubra se é par ou impar: 20\n",
            "Seu número 20 é par\n"
          ]
        }
      ]
    },
    {
      "cell_type": "markdown",
      "source": [
        "Exercício 24"
      ],
      "metadata": {
        "id": "pdW_FS6KkWud"
      }
    },
    {
      "cell_type": "markdown",
      "source": [
        "Crie uma função que receba uma lista de números e retorne a soma de todos\n",
        "os números ímpares da lista."
      ],
      "metadata": {
        "id": "aruALiXvVamH"
      }
    },
    {
      "cell_type": "code",
      "source": [
        "#receba uma lista de números e retorne a soma de todos os números ímpares da lista.\n",
        "\n",
        "def somimp(lista):\n",
        "  soma = 0\n",
        "\n",
        "  for num in lista:\n",
        "    if num % 2 == 1:\n",
        "      soma = soma + num\n",
        "  return soma\n",
        "\n",
        "numero = []\n",
        "\n",
        "for i in range(5):\n",
        " l = int(input('Digite um novo valor a lista : '))\n",
        " numero.append(l)\n",
        "\n",
        "resultado = somimp(numero)\n",
        "\n",
        "print(f'A soma dos números impares são: {resultado}')"
      ],
      "metadata": {
        "colab": {
          "base_uri": "https://localhost:8080/"
        },
        "id": "LdhYPAwnkWRb",
        "outputId": "517f3249-b993-4de8-92d8-5e9017e4660d"
      },
      "execution_count": null,
      "outputs": [
        {
          "output_type": "stream",
          "name": "stdout",
          "text": [
            "Digite um novo valor a lista : 4\n",
            "Digite um novo valor a lista : 4\n",
            "Digite um novo valor a lista : 5\n",
            "Digite um novo valor a lista : 5\n",
            "Digite um novo valor a lista : 1\n",
            "A soma dos números impares são: 11\n"
          ]
        }
      ]
    },
    {
      "cell_type": "markdown",
      "source": [
        "Exercício 25"
      ],
      "metadata": {
        "id": "9TFedGCaqtfJ"
      }
    },
    {
      "cell_type": "markdown",
      "source": [
        "Peça ao usuário para inserir um número e calcule sua raiz quadrada usando a\n",
        "biblioteca math."
      ],
      "metadata": {
        "id": "b5Po_2llVeFe"
      }
    },
    {
      "cell_type": "code",
      "source": [
        "import math\n",
        "\n",
        "num = int(input('Digite um número e descubra sua raiz quadrada: '))\n",
        "resultado = math.sqrt(num)\n",
        "\n",
        "print(f'A raíz quadrada de {num} equivale á: {resultado}')"
      ],
      "metadata": {
        "colab": {
          "base_uri": "https://localhost:8080/"
        },
        "id": "XrBIJNfgqq6a",
        "outputId": "6121660b-2007-4104-a8b1-f7e3fed6f0a0"
      },
      "execution_count": null,
      "outputs": [
        {
          "output_type": "stream",
          "name": "stdout",
          "text": [
            "Digite um número e descubra sua raiz quadrada: 25\n",
            "A raíz quadrada de 25 equivale á: 5.0\n"
          ]
        }
      ]
    },
    {
      "cell_type": "markdown",
      "source": [
        "Exercício 26"
      ],
      "metadata": {
        "id": "Cs8M08c9sSXY"
      }
    },
    {
      "cell_type": "markdown",
      "source": [
        "Peça ao usuário para inserir uma data no formato dd/mm/aaaa e exiba o dia da\n",
        "semana correspondente."
      ],
      "metadata": {
        "id": "4sTufnzIVipL"
      }
    },
    {
      "cell_type": "code",
      "source": [
        "import datetime\n",
        "\n",
        "data = input('Digite uma data no formato dd/mm/aaaa : ')\n",
        "\n",
        "# Convertendo a string em um objeto datetime\n",
        "data_convertida = datetime.datetime.strptime(data, \"%d/%m/%Y\")\n",
        "\n",
        "# Obtendo o dia da semana\n",
        "dia_da_semana = data_convertida.strftime(\"%A\")\n",
        "\n",
        "print(f'O dia da semana correspondente é: {dia_da_semana}')"
      ],
      "metadata": {
        "colab": {
          "base_uri": "https://localhost:8080/"
        },
        "id": "eNjgdtuFsMZF",
        "outputId": "46878e71-9755-492c-f604-7c8eadee4686"
      },
      "execution_count": null,
      "outputs": [
        {
          "output_type": "stream",
          "name": "stdout",
          "text": [
            "Digite uma data no formato dd/mm/aaaa : 10/03/2025\n",
            "O dia da semana correspondente é: Monday\n"
          ]
        }
      ]
    },
    {
      "cell_type": "markdown",
      "source": [
        "Exercício 27"
      ],
      "metadata": {
        "id": "eccsGOX9u8pX"
      }
    },
    {
      "cell_type": "markdown",
      "source": [
        "Solicite ao usuário um número e exiba um valor aleatório entre 1 e esse\n",
        "número."
      ],
      "metadata": {
        "id": "2cihGo3FVnDN"
      }
    },
    {
      "cell_type": "code",
      "source": [
        "import random\n",
        "\n",
        "num = int(input('Digite um número: '))\n",
        "\n",
        "num_ale = random.randint(1, num)\n",
        "\n",
        "print(f'Um número aleatório de 1 á {num}: {num_ale}')"
      ],
      "metadata": {
        "colab": {
          "base_uri": "https://localhost:8080/"
        },
        "id": "a_nmXJfkvAfg",
        "outputId": "5f2550ac-3d2d-4ffc-84a5-8c938e51c392"
      },
      "execution_count": null,
      "outputs": [
        {
          "output_type": "stream",
          "name": "stdout",
          "text": [
            "Digite um número: 5\n",
            "Um número aleatório de 1 á 5: 4\n"
          ]
        }
      ]
    },
    {
      "cell_type": "markdown",
      "source": [
        "Exercício 28"
      ],
      "metadata": {
        "id": "kKgXrk9pwEGI"
      }
    },
    {
      "cell_type": "markdown",
      "source": [
        "Use o módulo random para gerar uma lista com 5 números aleatórios entre 1 e\n",
        "100 e exibi-los."
      ],
      "metadata": {
        "id": "L1rZuu5fVsf0"
      }
    },
    {
      "cell_type": "code",
      "source": [
        "numero = []\n",
        "\n",
        "for i in range(5):\n",
        " l = random.randint(1, 100)\n",
        " numero.append(l)\n",
        "\n",
        "\n",
        "\n",
        "\n",
        "print(numero)"
      ],
      "metadata": {
        "colab": {
          "base_uri": "https://localhost:8080/"
        },
        "id": "ubopRHtEwFyn",
        "outputId": "428b057d-773b-40a8-bdba-a90306d19d95"
      },
      "execution_count": null,
      "outputs": [
        {
          "output_type": "stream",
          "name": "stdout",
          "text": [
            "[100, 1, 16, 49, 96]\n"
          ]
        }
      ]
    },
    {
      "cell_type": "markdown",
      "source": [
        "Exercício 29"
      ],
      "metadata": {
        "id": "AHF-r4THw4EP"
      }
    },
    {
      "cell_type": "markdown",
      "source": [
        "Simule o lançamento de um dado (números de 1 a 6) e exiba o resultado após\n",
        "uma pausa de 2 segundos."
      ],
      "metadata": {
        "id": "84JD5lWFVwjV"
      }
    },
    {
      "cell_type": "code",
      "source": [
        "import random\n",
        "import time\n",
        "\n",
        "i = 's'\n",
        "\n",
        "while i == 's':\n",
        "  l = random.randint(1, 6)\n",
        "  time.sleep(2)\n",
        "  print(l)\n",
        "  i = str(input('Girar o dado novamente? (s/n) '))\n",
        "  if i == 'n':\n",
        "    break"
      ],
      "metadata": {
        "colab": {
          "base_uri": "https://localhost:8080/"
        },
        "id": "vDAasaqcw3uP",
        "outputId": "3ea78787-7826-4be8-84a6-426374ef2c4b"
      },
      "execution_count": 15,
      "outputs": [
        {
          "name": "stdout",
          "output_type": "stream",
          "text": [
            "1\n",
            "Girar o dado novamente? (s/n) n\n"
          ]
        }
      ]
    },
    {
      "cell_type": "markdown",
      "source": [
        "Exercício 30"
      ],
      "metadata": {
        "id": "SDjg5d1GyG-n"
      }
    },
    {
      "cell_type": "markdown",
      "source": [
        "Crie um programa que crie e escreva a frase \"Python é incrível!\" em um arquivo\n",
        "chamado texto.txt."
      ],
      "metadata": {
        "id": "4TqiOtHZV0BN"
      }
    },
    {
      "cell_type": "code",
      "source": [
        "conteudo = input(\"Digite o conteúdo que deseja gravar no arquivo: \")\n",
        "\n",
        "# Criando e escrevendo no arquivo\n",
        "with open('palavra.txt', 'w') as arquivo:\n",
        "    arquivo.write(conteudo)\n",
        "\n",
        "print(f'O arquivo palavra.txt foi criado com sucesso!')\n"
      ],
      "metadata": {
        "colab": {
          "base_uri": "https://localhost:8080/"
        },
        "id": "wYWyMlT2yned",
        "outputId": "8e59535f-29b0-4ac3-a677-bbeafc7ff997"
      },
      "execution_count": null,
      "outputs": [
        {
          "output_type": "stream",
          "name": "stdout",
          "text": [
            "Digite o conteúdo que deseja gravar no arquivo: \"Python é incrível!\"\n",
            "O arquivo palavra.txt foi criado com sucesso!\n"
          ]
        }
      ]
    },
    {
      "cell_type": "markdown",
      "source": [
        "Exercício 31"
      ],
      "metadata": {
        "id": "QYErLd1B0MCN"
      }
    },
    {
      "cell_type": "markdown",
      "source": [
        "Crie um programa que leia o arquivo texto.txt e exiba o conteúdo na tela."
      ],
      "metadata": {
        "id": "NGSNiTDRV4W-"
      }
    },
    {
      "cell_type": "code",
      "source": [
        "nome_arquivo = input(\"Digite o nome do arquivo para visualizar (com a extensão .txt): \")\n",
        "\n",
        "try:\n",
        "    with open(nome_arquivo, 'r') as arquivo:\n",
        "        conteudo = arquivo.read()\n",
        "        print(f'Conteúdo do arquivo {nome_arquivo}:\\n{conteudo}')\n",
        "except FileNotFoundError:\n",
        "    print(f'O arquivo {nome_arquivo} não foi encontrado.')"
      ],
      "metadata": {
        "colab": {
          "base_uri": "https://localhost:8080/"
        },
        "id": "_5wica6ezA_V",
        "outputId": "b2d0ffe5-c047-4fa2-a549-9d209e37c2bd"
      },
      "execution_count": null,
      "outputs": [
        {
          "output_type": "stream",
          "name": "stdout",
          "text": [
            "Digite o nome do arquivo para visualizar (com a extensão .txt): contatos.txt\n",
            "Conteúdo do arquivo contatos.txt:\n",
            "Nome: Lucas \n",
            "Endereço: Senai Suiço - Brasileira\n",
            "\n"
          ]
        }
      ]
    },
    {
      "cell_type": "markdown",
      "source": [
        "Exercício 32"
      ],
      "metadata": {
        "id": "kqf1f9zi0aWt"
      }
    },
    {
      "cell_type": "markdown",
      "source": [
        "Peça ao usuário para inserir um nome e um telefone e armazene-os em um\n",
        "arquivo chamado contatos.txt."
      ],
      "metadata": {
        "id": "QN_qcj1fV7kt"
      }
    },
    {
      "cell_type": "code",
      "source": [
        "nome = input(\"Digite o nome que deseja gravar no arquivo: \")\n",
        "endereco = input(\"Digite o endereço que deseja gravar no arquivo: \")\n",
        "\n",
        "\n",
        "with open('contatos.txt', 'w') as arquivo:\n",
        "    arquivo.write(f\"Nome: {nome}\\n\")\n",
        "    arquivo.write(f\"Endereço: {endereco}\\n\")\n",
        "\n",
        "print(\"As informações foram gravadas com sucesso no arquivo 'contatos.txt'.\")\n"
      ],
      "metadata": {
        "colab": {
          "base_uri": "https://localhost:8080/"
        },
        "id": "mN6ncvPJ0ho-",
        "outputId": "5e486551-e0d9-4d5f-b43f-7a1d1459c651"
      },
      "execution_count": null,
      "outputs": [
        {
          "output_type": "stream",
          "name": "stdout",
          "text": [
            "Digite o nome que deseja gravar no arquivo: Lucas \n",
            "Digite o endereço que deseja gravar no arquivo: Senai Suiço - Brasileira\n",
            "As informações foram gravadas com sucesso no arquivo 'contatos.txt'.\n"
          ]
        }
      ]
    },
    {
      "cell_type": "markdown",
      "source": [
        "Exercício 33"
      ],
      "metadata": {
        "id": "mfwUd2TJ1rdF"
      }
    },
    {
      "cell_type": "markdown",
      "source": [
        "Solicite ao usuário um número e tente dividir 100 por ele, tratando o erro caso\n",
        "seja digitado zero."
      ],
      "metadata": {
        "id": "w43I0iA1V_fN"
      }
    },
    {
      "cell_type": "code",
      "source": [
        "while True:\n",
        "    try:\n",
        "        num = float(input('Digite um número e vamos dividir por 100: '))\n",
        "        if num == 0:\n",
        "            print('Digite um número diferente de 0.')\n",
        "        else:\n",
        "            break\n",
        "    except ValueError:\n",
        "        print(\"Erro: Por favor, digite um número válido.\")\n",
        "\n",
        "resul = num / 100\n",
        "print(f'{num} dividido por 100 é igual a: {resul}')\n"
      ],
      "metadata": {
        "colab": {
          "base_uri": "https://localhost:8080/"
        },
        "id": "KjwjCIxk1-ak",
        "outputId": "331f4759-d536-4630-b2d5-0186b243d59d"
      },
      "execution_count": null,
      "outputs": [
        {
          "output_type": "stream",
          "name": "stdout",
          "text": [
            "Digite um número e vamos dividir por 100: 0\n",
            "Digite um número diferente de 0.\n",
            "Digite um número e vamos dividir por 100: 10\n",
            "10.0 dividido por 100 é igual a: 0.1\n"
          ]
        }
      ]
    },
    {
      "cell_type": "markdown",
      "source": [
        "Exercício 34"
      ],
      "metadata": {
        "id": "kQJm43F7Ho76"
      }
    },
    {
      "cell_type": "markdown",
      "source": [
        "Peça ao usuário para inserir um número e trate possíveis erros de entrada\n",
        "(como digitar uma letra no lugar do número)."
      ],
      "metadata": {
        "id": "XofoE6U1WkRt"
      }
    },
    {
      "cell_type": "code",
      "source": [
        "while True:\n",
        "  try:\n",
        "    num = float(input('Digite um número: '))\n",
        "    print('Tentativa de entrada concluída.')\n",
        "    break\n",
        "  except ValueError:\n",
        "     print(\"Erro: você não digitou um número válido. Tente novamente.\")\n",
        "\n",
        "\n",
        "\n"
      ],
      "metadata": {
        "colab": {
          "base_uri": "https://localhost:8080/"
        },
        "id": "mIl4xmLHHueS",
        "outputId": "ec593d8d-c1ce-4b03-f0e3-6a78f9b2a319"
      },
      "execution_count": 10,
      "outputs": [
        {
          "output_type": "stream",
          "name": "stdout",
          "text": [
            "Digite um número: 1.2\n",
            "Tentativa de entrada concluída.\n"
          ]
        }
      ]
    },
    {
      "cell_type": "markdown",
      "source": [
        "Exercício 35"
      ],
      "metadata": {
        "id": "oiz_tGesKTr0"
      }
    },
    {
      "cell_type": "markdown",
      "source": [
        "Solicite ao usuário um número inteiro e trate o erro caso ele tente inserir um\n",
        "valor não numérico. Se a entrada for válida, exiba o quadrado do número."
      ],
      "metadata": {
        "id": "khOKmvmMKy9K"
      }
    },
    {
      "cell_type": "code",
      "source": [
        "while True:\n",
        "  try:\n",
        "    num = int(input('Digite um número: '))\n",
        "    q = num**2\n",
        "    print(f'Tentativa de entrada concluída. {num} elevado ao quadrado equivale á: {q}')\n",
        "    break\n",
        "  except ValueError:\n",
        "     print(\"Erro: você não digitou um número válido. Tente novamente.\")\n",
        "\n",
        "\n",
        "\n"
      ],
      "metadata": {
        "colab": {
          "base_uri": "https://localhost:8080/"
        },
        "id": "d5gniXiiK5zg",
        "outputId": "db208968-3a6b-49b6-b370-23a207839edf"
      },
      "execution_count": 14,
      "outputs": [
        {
          "output_type": "stream",
          "name": "stdout",
          "text": [
            "Digite um número: 1\n",
            "Tentativa de entrada concluída. 1 elevado ao quadrado equivale á: 1\n"
          ]
        }
      ]
    }
  ]
}